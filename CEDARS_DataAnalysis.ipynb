{
 "cells": [
  {
   "cell_type": "code",
   "execution_count": 1,
   "id": "b346d679",
   "metadata": {},
   "outputs": [],
   "source": [
    "#I want to look at claims data for any year and measure ID. \n",
    "# I want to sum the values of specific columns for that measure ID and year, \n",
    "# and then calculate the total system benefit per net energy savings in MMBTU."
   ]
  },
  {
   "cell_type": "code",
   "execution_count": 2,
   "id": "9ed6fa1b",
   "metadata": {},
   "outputs": [],
   "source": [
    "# Select Claims Year & Measure ID ,   first 7 digits\n",
    "year = 2024\n",
    "MeasureID = \"SWWH028\" "
   ]
  },
  {
   "cell_type": "code",
   "execution_count": 3,
   "id": "8c7cdbfe",
   "metadata": {},
   "outputs": [],
   "source": [
    "import pandas as pd\n",
    "import fastparquet",
    "from pathlib import Path\n",
    "import numpy as np \n",
    "import seaborn as sns\n",
    "import matplotlib.pyplot as plt\n",
    "import matplotlib.ticker as ticker \n",
    "from jinja2 import Template \n",
    " "
   ]
  },
  {
   "cell_type": "code",
   "execution_count": 4,
   "id": "f9444885",
   "metadata": {},
   "outputs": [
    {
     "name": "stdout",
     "output_type": "stream",
     "text": [
      "✔ Cached file found — skipping download:\n",
      "    C:\\Users\\mmh\\Documents\\GitHub\\getdata\\cache\\Get_Claims2024.parquet\n",
      "C:\\Users\\mmh\\Documents\\GitHub\\getdata\\cache\\Get_Claims2024.parquet\n"
     ]
    }
   ],
   "source": [
    "from cedars__download import fetch_cedars_claims\n",
    "local_path = fetch_cedars_claims(year)\n",
    "print(local_path)"
   ]
  },
  {
   "cell_type": "code",
   "execution_count": 5,
   "id": "b031d9fc",
   "metadata": {},
   "outputs": [],
   "source": [
    "# make claims downloaded local path into a dataframe; ensure the file exists first\n",
    "if not local_path.exists():\n",
    "    raise FileNotFoundError(f\"No Parquet file for {year} at {local_path}\")\n",
    "# read it\n",
    "claims_data= pd.read_parquet(local_path, engine=\"fastparquet\")"
   ]
  },
  {
   "cell_type": "code",
   "execution_count": 6,
   "id": "51268a27",
   "metadata": {},
   "outputs": [],
   "source": [
    "mask = claims_data[\"Measure ID\"].str.startswith(MeasureID, na=False)\n",
    "claims_data_subset_meas = claims_data[mask].copy()"
   ]
  },
  {
   "cell_type": "code",
   "execution_count": 7,
   "id": "8d7544ba",
   "metadata": {},
   "outputs": [
    {
     "name": "stdout",
     "output_type": "stream",
     "text": [
      "       Annual Gross kW  Annual Gross kWh  Annual Gross Therm  \\\n",
      "Total                0         -75484494             9899908   \n",
      "\n",
      "       Total System Benefit  \n",
      "Total              79547623  \n"
     ]
    }
   ],
   "source": [
    "column_list = [\n",
    "    \"Annual Gross kW\", \"Annual Gross kWh\",\"Annual Gross Therm\",\"Total System Benefit\"]\n",
    "\n",
    "def sum_of_col_mult(claims_data_subset_meas, column_list):\n",
    "    \"\"\"\n",
    "    Returns the sum of multiple specified columns in a DataFrame.\n",
    "    \"\"\"\n",
    "    output = []\n",
    "    for column in column_list:\n",
    "        if column not in claims_data_subset_meas.columns:\n",
    "            raise ValueError(f\"Column '{column}' does not exist in the DataFrame.\")\n",
    "        output.append(claims_data_subset_meas[column].sum())\n",
    "    return output\n",
    "sums = sum_of_col_mult(claims_data_subset_meas, [\"Annual Gross kW\", \"Annual Gross kWh\",\"Annual Gross Therm\",\"Total System Benefit\"]) # this is summing all measures, not just the HPWH_FS_Claims\n",
    "\n",
    "sums = pd.DataFrame([sums], columns=column_list)\n",
    "sums.index = [\"Total\"]\n",
    "sums = sums.apply(pd.to_numeric, errors='coerce')  # Ensure all data is numeric\n",
    "sums = sums.fillna(0)  # Replace NaN with 0\n",
    "sums = sums.astype(int)  # Convert to integer type for better readability   \n",
    "print(sums)\n"
   ]
  },
  {
   "cell_type": "code",
   "execution_count": 8,
   "id": "d836ca70",
   "metadata": {},
   "outputs": [
    {
     "name": "stdout",
     "output_type": "stream",
     "text": [
      "MMBTU Electric:\n",
      "-257,564\n",
      "MMBTU Gas:\n",
      "989,991\n",
      "Net BTU Savings:\n",
      "732,427\n"
     ]
    }
   ],
   "source": [
    "kwh_total = sums['Annual Gross kWh'].values[0]\n",
    "therm_total = sums['Annual Gross Therm'].values[0]\n",
    "\n",
    "#calculate Total Energy Savings (BTU)\n",
    "#convert kWh to MMBTU\n",
    "MMBTU_Electric = kwh_total* 0.00341214 # 1 kWh = 0.00341214 MMBTU\n",
    "print(\"MMBTU Electric:\")\n",
    "print(f\"{MMBTU_Electric:,.0f}\")\n",
    "\n",
    "#convert Therm to MMBTU\n",
    "MMBTU_Gas = therm_total * 0.1  # 1 Therm = 0.1 MMBTU\n",
    "print(\"MMBTU Gas:\")\n",
    "print(f\"{MMBTU_Gas:,.0f}\")   \n",
    "\n",
    "#Net MMBTU Savings\n",
    "MMBTU_Net = MMBTU_Electric + MMBTU_Gas\n",
    "print(\"Net BTU Savings:\")    \n",
    "print(f\"{MMBTU_Net:,.0f}\")    "
   ]
  },
  {
   "cell_type": "code",
   "execution_count": 9,
   "id": "14f641af",
   "metadata": {},
   "outputs": [
    {
     "name": "stdout",
     "output_type": "stream",
     "text": [
      "  Technology Type      MMBTU Use\n",
      "0        Electric  257563.661357\n",
      "1             Gas  989990.800000\n"
     ]
    }
   ],
   "source": [
    "#dataframe BTUs\n",
    "x = abs(MMBTU_Electric)  \n",
    "y = abs(MMBTU_Gas)\n",
    "\n",
    "MMBTU_df = pd.DataFrame(\n",
    "    {'Technology Type': ['Electric', 'Gas'],\n",
    "     'MMBTU Use': [abs(x), abs(y)]}\n",
    ")\n",
    "print(MMBTU_df)"
   ]
  },
  {
   "cell_type": "code",
   "execution_count": 10,
   "id": "02827c0a",
   "metadata": {},
   "outputs": [
    {
     "data": {
      "image/png": "[encoded data removed]",
      "text/plain": [
       "<Figure size 640x480 with 1 Axes>"
      ]
     },
     "metadata": {},
     "output_type": "display_data"
    },
    {
     "name": "stdout",
     "output_type": "stream",
     "text": [
      "The selected year in this figure is 2024.\n"
     ]
    }
   ],
   "source": [
    "\n",
    "# Plotting the MMBTU Impact\n",
    "MMBTU_Chart = sns.barplot(x='Technology Type', y='MMBTU Use', data=MMBTU_df)\n",
    "MMBTU_Chart.yaxis.set_major_formatter(ticker.StrMethodFormatter('{x:,.0f}'))\n",
    "MMBTU_Chart.set_title('Annual MMBTU Useage by Technology', fontsize=14, pad=12)\n",
    "plt.tight_layout()\n",
    "plt.show()\n",
    "print(f\"The selected year in this figure is {year}.\")"
   ]
  },
  {
   "cell_type": "code",
   "execution_count": 11,
   "id": "0d0b5070",
   "metadata": {},
   "outputs": [
    {
     "name": "stdout",
     "output_type": "stream",
     "text": [
      "TSB per Net Energy Savings ($/MMBTU):\n",
      "$108\n"
     ]
    }
   ],
   "source": [
    "#calculate Rates for CE metrics to compare FS to other measures and to costs\n",
    "TSB = sums['Total System Benefit'].values[0]\n",
    "Rate = TSB // MMBTU_Net  # Total System Benefit divided by Net MMBTU Savings\n",
    "print(\"TSB per Net Energy Savings ($/MMBTU):\") \n",
    "print(f\"${Rate:,.0f}\")  "
   ]
  }
 ],
 "metadata": {
  "kernelspec": {
   "display_name": "Python 3",
   "language": "python",
   "name": "python3"
  },
  "language_info": {
   "codemirror_mode": {
    "name": "ipython",
    "version": 3
   },
   "file_extension": ".py",
   "mimetype": "text/x-python",
   "name": "python",
   "nbconvert_exporter": "python",
   "pygments_lexer": "ipython3",
   "version": "3.13.5"
  }
 },
 "nbformat": 4,
 "nbformat_minor": 5
}
